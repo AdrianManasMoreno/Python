{
 "cells": [
  {
   "cell_type": "markdown",
   "metadata": {},
   "source": [
    "# Ejercicios Introducción a Python"
   ]
  },
  {
   "cell_type": "markdown",
   "metadata": {},
   "source": [
    "### Ejercicio 1: Conversor de Temperatura\n",
    "Escribe un programa que convierta una temperatura de grados Celsius a grados Fahrenheit."
   ]
  },
  {
   "cell_type": "code",
   "execution_count": 17,
   "metadata": {},
   "outputs": [
    {
     "name": "stdout",
     "output_type": "stream",
     "text": [
      "La temperatura en Farenheit es :35.6\n"
     ]
    }
   ],
   "source": [
    "# F = C * (9/5) + 32\n",
    "def celsius_a_fahrenheit(celsius):\n",
    "    return celsius * (9/5) + 32\n",
    "\n",
    "tem_celsius = float(input(\"Introduzca La temperatura en Celsius: \"))\n",
    "temp_farenheit = celsius_a_fahrenheit(tem_celsius)\n",
    "print(f'La temperatura en Farenheit es :{temp_farenheit}')"
   ]
  },
  {
   "cell_type": "markdown",
   "metadata": {},
   "source": [
    "### Ejercicio 2: Calculadora de Propina\n",
    "Crea un programa que calcule el monto total a pagar en un restaurante, incluyendo\n",
    "una propina del 15% sobre el total de la cuenta."
   ]
  },
  {
   "cell_type": "code",
   "execution_count": 13,
   "metadata": {},
   "outputs": [
    {
     "name": "stdout",
     "output_type": "stream",
     "text": [
      "El total a pagar con la propina incluida es: 23.0\n"
     ]
    }
   ],
   "source": [
    "def calcular_total(consumo):\n",
    "  propina = consumo * 0.15\n",
    "  total = consumo + propina\n",
    "  return total\n",
    "\n",
    "consumo = float(input(\"Introduzca el consumo: \"))\n",
    "total_pagar = calcular_total(consumo)\n",
    "print(f'El total a pagar con la propina incluida es: {total_pagar}')"
   ]
  },
  {
   "cell_type": "markdown",
   "metadata": {},
   "source": [
    "### Ejercicio 3: Verificación de Edad\n",
    "Escribe un programa que solicite la edad de un usuario y determine si es mayor de\n",
    "edad (mayor o igual a 18 años) o no."
   ]
  },
  {
   "cell_type": "code",
   "execution_count": null,
   "metadata": {},
   "outputs": [
    {
     "data": {
      "text/plain": [
       "'Es mayor de edad'"
      ]
     },
     "execution_count": 16,
     "metadata": {},
     "output_type": "execute_result"
    }
   ],
   "source": [
    "def saber_edad(edad):\n",
    "    if edad >= 18:\n",
    "      return \"Es mayor de edad\"\n",
    "    else:\n",
    "      return \"Es menor de edad\"\n",
    "  \n",
    "edad = int(input(\"Introduzca la edad: \"))\n",
    "saber_edad(edad)"
   ]
  },
  {
   "cell_type": "markdown",
   "metadata": {},
   "source": [
    "### Ejercicio 4: Contador de Vocales\n",
    "Crea un programa que cuente el número de vocales en una palabra ingresada por el\n",
    "usuario."
   ]
  },
  {
   "cell_type": "code",
   "execution_count": 22,
   "metadata": {},
   "outputs": [
    {
     "data": {
      "text/plain": [
       "3"
      ]
     },
     "execution_count": 22,
     "metadata": {},
     "output_type": "execute_result"
    }
   ],
   "source": [
    "def contar_vocales(cadena):\n",
    "  vocales = \"aeiouAEIOU\"\n",
    "  contador = 0\n",
    "  for letra in cadena:\n",
    "    if letra in vocales:\n",
    "      contador += 1\n",
    "  return contador\n",
    "\n",
    "cadena = input(\"Introduzca una cadena: \")\n",
    "contar_vocales(cadena)"
   ]
  },
  {
   "cell_type": "markdown",
   "metadata": {},
   "source": [
    "### Ejercicio 5: Suma de Números Pares\n",
    "Escribe un programa que calcule la suma de todos los números pares del 1 al 100."
   ]
  },
  {
   "cell_type": "code",
   "execution_count": 25,
   "metadata": {},
   "outputs": [
    {
     "data": {
      "text/plain": [
       "2550"
      ]
     },
     "execution_count": 25,
     "metadata": {},
     "output_type": "execute_result"
    }
   ],
   "source": [
    "suma = 0\n",
    "\n",
    "for numero in range(2, 101, 2):\n",
    "  suma += numero\n",
    "  \n",
    "suma"
   ]
  },
  {
   "cell_type": "markdown",
   "metadata": {},
   "source": [
    "### Ejercicio 6: Verificación de Palíndromo\n",
    "Crea un programa que verifique si una palabra ingresada por el usuario es un\n",
    "palíndromo (se lee igual de izquierda a derecha que de derecha a izquierda).\n"
   ]
  },
  {
   "cell_type": "code",
   "execution_count": 28,
   "metadata": {},
   "outputs": [
    {
     "name": "stdout",
     "output_type": "stream",
     "text": [
      "Es palindromo\n"
     ]
    }
   ],
   "source": [
    "palabra = input(\"Introduzca una palabra: \")\n",
    "if palabra == palabra[::-1]:\n",
    "  print(\"Es palindromo\")\n",
    "else:\n",
    "  print(\"No es palindromo\")"
   ]
  },
  {
   "cell_type": "markdown",
   "metadata": {},
   "source": [
    "### Ejercicio 7: Calculadora Simple\n",
    "Crea un programa que realice operaciones aritméticas simples (suma, resta,\n",
    "multiplicación, división) según la elección del usuario."
   ]
  },
  {
   "cell_type": "code",
   "execution_count": 34,
   "metadata": {},
   "outputs": [
    {
     "name": "stdout",
     "output_type": "stream",
     "text": [
      "Has elegido multiplicacion y el resultado de 67.0 * 45.0 = 3015.0\n"
     ]
    }
   ],
   "source": [
    "num1 = float(input(\"Ingresa el primer número: \"))\n",
    "num2 = float(input(\"Ingresa el segundo número: \"))\n",
    "operacion = input(\"\\nIngresa el número de la operación que deseas realizar (1)Sumar, (2)restar, (3)Multiplicar y (4)Dividir: \")\n",
    "\n",
    "def realizar_operacion(num1, num2):\n",
    "  if operacion == '1':\n",
    "    resultado = num1 + num2\n",
    "    print(f\"Has elegido suma y el resultado de {num1} + {num2} = {resultado}\")\n",
    "  elif operacion == '2':\n",
    "    resultado = num1 - num2\n",
    "    print(f\"Has elegido resta y el resultado de {num1} - {num2} = {resultado}\")\n",
    "  elif operacion == '3':\n",
    "    resultado = num1 * num2\n",
    "    print(f\"Has elegido multiplicacion y el resultado de {num1} * {num2} = {resultado}\")\n",
    "  elif operacion == '4':\n",
    "    if num2 !=0:\n",
    "      resultado = num1 / num2\n",
    "      print(f\"Has elegido division y el resultado de {num1} / {num2} = {resultado}\")\n",
    "    else:\n",
    "      print(\"Error, no se puede dividir entre 0\")\n",
    "  else:\n",
    "    print(\"Has elegido una opcion de oparacion no valida\")\n",
    "     \n",
    "realizar_operacion(num1, num2)\n"
   ]
  },
  {
   "cell_type": "markdown",
   "metadata": {},
   "source": [
    "### Ejercicio 8: Cálculo del Índice de Masa Corporal (IMC)\n",
    "Escribe un programa que calcule el Índice de Masa Corporal (IMC) de una persona."
   ]
  },
  {
   "cell_type": "code",
   "execution_count": null,
   "metadata": {},
   "outputs": [],
   "source": [
    "# IMC = peso (kg)/ [estatura]2\n",
    "def calcular_imc(peso, estatura):\n",
    "    return peso / estatura ** 2\n",
    "  \n",
    "calcular_imc(70, 1.75)"
   ]
  },
  {
   "cell_type": "markdown",
   "metadata": {},
   "source": [
    "### Ejercicio 9: Conversor de Divisas\n",
    "Crea un programa que convierta una cantidad de dólares a euros. Suponiendo que\n",
    "1 dólar es igual a 0.85 euros."
   ]
  },
  {
   "cell_type": "code",
   "execution_count": 30,
   "metadata": {},
   "outputs": [
    {
     "data": {
      "text/plain": [
       "85.0"
      ]
     },
     "execution_count": 30,
     "metadata": {},
     "output_type": "execute_result"
    }
   ],
   "source": [
    "def pasar_a_euros(dolares):\n",
    "  return dolares * 0.85\n",
    "\n",
    "pasar_a_euros(100)"
   ]
  },
  {
   "cell_type": "markdown",
   "metadata": {},
   "source": [
    "### Ejercicio 10: Determinar el Día de la Semana\n",
    "Escribe un programa que determine el día de la semana correspondiente a un\n",
    "número ingresado por el usuario (1 para lunes, 2 para martes, etc.).\n"
   ]
  },
  {
   "cell_type": "code",
   "execution_count": null,
   "metadata": {},
   "outputs": [],
   "source": [
    "dias_de_la_semana = [\"Lunes\", \"Martes\", \"Miercoles\", \"Jueves\", \"Viernes\", \"Sabado\", \"Domingo\"]\n",
    "dia = int(input(\"Introduzca un numero: \"))\n",
    "print(dias_de_la_semana[dia - 1])"
   ]
  },
  {
   "cell_type": "markdown",
   "metadata": {},
   "source": [
    "### Ejercicio 11: Calculadora de Edad\n",
    "Escribe un programa que solicite al usuario su año de nacimiento y calcule su edad\n",
    "actual.\n"
   ]
  },
  {
   "cell_type": "code",
   "execution_count": 35,
   "metadata": {},
   "outputs": [
    {
     "name": "stdout",
     "output_type": "stream",
     "text": [
      "En el año 2025 tendra 31 años\n"
     ]
    }
   ],
   "source": [
    "año_nacimiento = int(input(\"Introduzca el año de nacimiento: \"))\n",
    "año_actual = 2025\n",
    "edad = año_actual - año_nacimiento\n",
    "print(f\"En el año {año_actual} tendra {edad} años\")"
   ]
  },
  {
   "cell_type": "markdown",
   "metadata": {},
   "source": [
    "### Ejercicio 12: Calculadora de Área de un Rectángulo\n",
    "Crea un programa que calcule el área de un rectángulo. El usuario debe ingresar la\n",
    "longitud y el ancho del rectángulo.\n"
   ]
  },
  {
   "cell_type": "code",
   "execution_count": 5,
   "metadata": {},
   "outputs": [
    {
     "name": "stdout",
     "output_type": "stream",
     "text": [
      "El area del rectangulo es: 50.0\n"
     ]
    }
   ],
   "source": [
    "longitud = float(input(\"Ingrese la longitud del rectangulo\"))\n",
    "ancho = float(input(\"Ingrese el ancho del rectangulo\"))\n",
    "\n",
    "def area_rectangulo (longitud, ancho):\n",
    "  area = longitud * ancho\n",
    "  return area\n",
    "\n",
    "print(f\"El area del rectangulo es: {area_rectangulo(longitud, ancho)}\")"
   ]
  },
  {
   "cell_type": "markdown",
   "metadata": {},
   "source": [
    "### Ejercicio 13: Verificación de Número Primo\n",
    "Escribe un programa que determine si un número ingresado por el usuario es primo\n",
    "o no.\n"
   ]
  },
  {
   "cell_type": "code",
   "execution_count": 18,
   "metadata": {},
   "outputs": [
    {
     "name": "stdout",
     "output_type": "stream",
     "text": [
      "El numero insertado es 5\n",
      "El numero no es primo\n"
     ]
    }
   ],
   "source": [
    "numero = int(input(\"Ingrese un numero\"))\n",
    "\n",
    "def num_primo(numero):\n",
    "  if numero <= 1:\n",
    "    return print(\"El numero no es primo\")\n",
    "  for numero in range(2, int(numero ** 0.5) + 1):\n",
    "      if numero % numero == 0:\n",
    "          return print(\"El numero no es primo\")\n",
    "  return print(\"El numero es primo\")\n",
    "\n",
    "print(f\"El numero insertado es {numero}\")\n",
    "num_primo(numero)"
   ]
  },
  {
   "cell_type": "markdown",
   "metadata": {},
   "source": [
    "### Ejercicio 14: Calculadora de Descuento\n",
    "Crea un programa que calcule el precio final de un artículo después de aplicar un\n",
    "descuento del 20%."
   ]
  },
  {
   "cell_type": "code",
   "execution_count": 28,
   "metadata": {},
   "outputs": [
    {
     "name": "stdout",
     "output_type": "stream",
     "text": [
      "El precio del articulo es: 10.0\n",
      "El precio final con el 20% de descuento es: 8.0\n"
     ]
    }
   ],
   "source": [
    "def calcular_precio_final(precio):\n",
    "    precio_descuento = precio * (1 - 0.2)\n",
    "    return precio_descuento\n",
    "\n",
    "precio_original = float(input(\"Introduzca el precio del articulo\"))\n",
    "print(f\"El precio del articulo es: {precio_original}\")\n",
    "print(f\"El precio final con el 20% de descuento es: {calcular_precio_final(precio_original)}\")"
   ]
  },
  {
   "cell_type": "markdown",
   "metadata": {},
   "source": [
    "### Ejercicio 15: Conversor de Tiempo\n",
    "Escribe un programa que convierta un número de minutos en horas y minutos. Por\n",
    "ejemplo, 145 minutos serían 2 horas y 25 minutos.\n"
   ]
  },
  {
   "cell_type": "code",
   "execution_count": 45,
   "metadata": {},
   "outputs": [
    {
     "name": "stdout",
     "output_type": "stream",
     "text": [
      "50 minutos son 0 horas y 50 minutos.\n"
     ]
    }
   ],
   "source": [
    "def conversor(minutos):\n",
    "  horas = minutos // 60\n",
    "  minutos_restantes = minutos % 60\n",
    "  return horas, minutos_restantes\n",
    "\n",
    "minutos = int(input(\"Ingrese un numero en minutos\"))\n",
    "horas, minutos_restantes = conversor(minutos)\n",
    "print(f\"{minutos} minutos son {horas} horas y {minutos_restantes} minutos.\")"
   ]
  },
  {
   "cell_type": "markdown",
   "metadata": {},
   "source": [
    "### Ejercicio 16: Contador de Números Pares e Impares\n",
    "Crea un programa que cuente y muestre la cantidad de números pares e impares en\n",
    "una lista ingresada por el usuario.\n"
   ]
  },
  {
   "cell_type": "code",
   "execution_count": 60,
   "metadata": {},
   "outputs": [
    {
     "name": "stdout",
     "output_type": "stream",
     "text": [
      "Los numeros pares son en total 5 y son [76, 20, 10, 66, 60] y los impares son 7 y son [3, 5, 31, 13, 21, 45, 45]\n"
     ]
    }
   ],
   "source": [
    "lista_numero = [3, 5, 76, 31, 20, 10, 13, 21, 45, 66, 45, 60]\n",
    "\n",
    "def contar_tipo(lista_numero):\n",
    "  numeros_pares = []\n",
    "  numeros_impares = []\n",
    "  for numero in lista_numero:\n",
    "    if numero % 2 == 0:\n",
    "      numeros_pares.append(numero)\n",
    "    else:\n",
    "      numeros_impares.append(numero)\n",
    "  return numeros_pares, numeros_impares\n",
    "\n",
    "numeros_pares, numeros_impares = contar_tipo(lista_numero)\n",
    "longitud_pares = len(numeros_pares)\n",
    "longitud_impares = len(numeros_impares)\n",
    "print(f\"Los numeros pares son en total {longitud_pares} y son {numeros_pares} y los impares son {longitud_impares} y son {numeros_impares}\")"
   ]
  },
  {
   "cell_type": "markdown",
   "metadata": {},
   "source": [
    "### Ejercicio 17: Conversor de Millas a Kilómetros\n",
    "Escribe un programa que convierta una distancia en millas a kilómetros. Sabiendo\n",
    "que 1 milla equivale a 1.60934 kilómetros."
   ]
  },
  {
   "cell_type": "code",
   "execution_count": 1,
   "metadata": {},
   "outputs": [],
   "source": [
    "def millas_a_kilometros(millas):\n",
    "    return millas * 1.60934"
   ]
  },
  {
   "cell_type": "code",
   "execution_count": null,
   "metadata": {},
   "outputs": [
    {
     "name": "stdout",
     "output_type": "stream",
     "text": [
      "100 millas son 160.934 kilometros\n"
     ]
    }
   ],
   "source": [
    "kilometros = millas_a_kilometros(100)\n",
    "print(f\"100 millas son {kilometros} kilometros\")"
   ]
  },
  {
   "cell_type": "markdown",
   "metadata": {},
   "source": [
    "### Ejercicio 18: Contador de Palabras\n",
    "Crea un programa que cuente la cantidad de palabras en una oración ingresada por\n",
    "el usuario."
   ]
  },
  {
   "cell_type": "code",
   "execution_count": null,
   "metadata": {},
   "outputs": [],
   "source": [
    "def contar_palabras(oracion):\n",
    "  palabras = oracion.split()\n",
    "  cantidad_palabras = len(palabras)\n",
    "  return cantidad_palabras"
   ]
  },
  {
   "cell_type": "code",
   "execution_count": 5,
   "metadata": {},
   "outputs": [
    {
     "data": {
      "text/plain": [
       "2"
      ]
     },
     "execution_count": 5,
     "metadata": {},
     "output_type": "execute_result"
    }
   ],
   "source": [
    "contar_palabras(\"Hola mundo\")"
   ]
  },
  {
   "cell_type": "markdown",
   "metadata": {},
   "source": [
    "### Ejercicio 19: Verificación de Año Bisiesto\n",
    "Escribe un programa que determine si un año ingresado por el usuario es bisiesto o\n",
    "no.\n"
   ]
  },
  {
   "cell_type": "code",
   "execution_count": 6,
   "metadata": {},
   "outputs": [],
   "source": [
    "def año_bisiesto(año):\n",
    "  if año % 4 == 0 and (año % 100 != 0 or año % 400 == 0):\n",
    "    return \"Es año bisiesto\"\n",
    "  else:\n",
    "    return \"No es año bisiesto\""
   ]
  },
  {
   "cell_type": "code",
   "execution_count": 7,
   "metadata": {},
   "outputs": [
    {
     "data": {
      "text/plain": [
       "'Es año bisiesto'"
      ]
     },
     "execution_count": 7,
     "metadata": {},
     "output_type": "execute_result"
    }
   ],
   "source": [
    "año_bisiesto(2024)"
   ]
  },
  {
   "cell_type": "markdown",
   "metadata": {},
   "source": [
    "### Ejercicio 20: Suma de Números en una Lista\n",
    "Crea un programa que sume todos los números en una lista ingresada por el\n",
    "usuario."
   ]
  },
  {
   "cell_type": "code",
   "execution_count": 10,
   "metadata": {},
   "outputs": [],
   "source": [
    "def sumar_numeros(lista_numeros):\n",
    "  suma = 0\n",
    "  for numero in lista_numeros:\n",
    "    suma += numero\n",
    "  return suma"
   ]
  },
  {
   "cell_type": "code",
   "execution_count": 13,
   "metadata": {},
   "outputs": [
    {
     "data": {
      "text/plain": [
       "395"
      ]
     },
     "execution_count": 13,
     "metadata": {},
     "output_type": "execute_result"
    }
   ],
   "source": [
    "lista_numeros = [3, 5, 76, 31, 20, 10, 13, 21, 45, 66, 45, 60]\n",
    "sumar_numeros(lista_numeros)"
   ]
  }
 ],
 "metadata": {
  "kernelspec": {
   "display_name": "Python 3",
   "language": "python",
   "name": "python3"
  },
  "language_info": {
   "codemirror_mode": {
    "name": "ipython",
    "version": 3
   },
   "file_extension": ".py",
   "mimetype": "text/x-python",
   "name": "python",
   "nbconvert_exporter": "python",
   "pygments_lexer": "ipython3",
   "version": "3.12.4"
  }
 },
 "nbformat": 4,
 "nbformat_minor": 2
}
