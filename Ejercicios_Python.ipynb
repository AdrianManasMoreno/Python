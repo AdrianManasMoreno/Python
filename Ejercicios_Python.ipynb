{
 "cells": [
  {
   "cell_type": "markdown",
   "metadata": {},
   "source": [
    "## EJERCICIOS PYTHON"
   ]
  },
  {
   "cell_type": "markdown",
   "metadata": {},
   "source": [
    "### Ejercicio 1. Función contar_caracteres\n",
    "- Crea una función que cuente el número de caracteres en una cadena de texto dada."
   ]
  },
  {
   "cell_type": "code",
   "execution_count": 1,
   "metadata": {},
   "outputs": [
    {
     "name": "stdout",
     "output_type": "stream",
     "text": [
      "El número de caracteres es: 34\n"
     ]
    }
   ],
   "source": [
    "def contar_caracteres(cadena):\n",
    "    return len(cadena)\n",
    "\n",
    "texto1 = \"¡Hola alumnos! Bienvenidos a clase\"\n",
    "cantidad_caracteres = contar_caracteres(texto1)\n",
    "print(\"El número de caracteres es:\", cantidad_caracteres)"
   ]
  },
  {
   "cell_type": "markdown",
   "metadata": {},
   "source": [
    "### Ejercicio 2. Función calcular_promedio:\n",
    "- Crea una función que calcule el promedio de una lista de números."
   ]
  },
  {
   "cell_type": "code",
   "execution_count": 2,
   "metadata": {},
   "outputs": [
    {
     "name": "stdout",
     "output_type": "stream",
     "text": [
      "El promedio es: 3.0\n"
     ]
    }
   ],
   "source": [
    "def calcular_promedio(lista):\n",
    "    if len(lista) == 0:\n",
    "        return 0\n",
    "    return sum(lista) / len(lista)\n",
    "\n",
    "numeros = [1, 2, 3, 4, 5]\n",
    "promedio = calcular_promedio(numeros)\n",
    "print(\"El promedio es:\", promedio)"
   ]
  },
  {
   "cell_type": "markdown",
   "metadata": {},
   "source": [
    "### Ejercicio 3. Función encontrar_duplicado:\n",
    "- Crea una función que busque y devuelva el primer elemento duplicado en una lista dada."
   ]
  },
  {
   "cell_type": "code",
   "execution_count": 3,
   "metadata": {},
   "outputs": [
    {
     "name": "stdout",
     "output_type": "stream",
     "text": [
      "3\n"
     ]
    }
   ],
   "source": [
    "def primer_elemento_duplicado(lista):\n",
    "    elementos_vistos = set()\n",
    "    for numero in lista:\n",
    "        if numero in elementos_vistos:\n",
    "            return numero\n",
    "        elementos_vistos.add(numero)\n",
    "    return None\n",
    "\n",
    "numeros = [1, 2, 3, 4, 5, 6, 7, 8, 9, 3]\n",
    "duplicado = primer_elemento_duplicado(numeros)\n",
    "print(duplicado)"
   ]
  },
  {
   "cell_type": "markdown",
   "metadata": {},
   "source": [
    "### Ejercicio 4. Función enmascarado_datos\n",
    "- Crea una función que convierta una variable en una cadena de texto y enmascare todos los caracteres con el carácter '#', excepto los últimos cuatro."
   ]
  },
  {
   "cell_type": "code",
   "execution_count": 4,
   "metadata": {},
   "outputs": [
    {
     "name": "stdout",
     "output_type": "stream",
     "text": [
      "############1234\n",
      "#####6789\n"
     ]
    }
   ],
   "source": [
    "def enmascarado_datos(variable):\n",
    "  variable_str = str(variable)\n",
    "  enmascarado = '#' * (len(variable_str) - 4) + variable_str[-4:]\n",
    "  return enmascarado\n",
    "\n",
    "contraseña1  = 'Micontraseña1234' \n",
    "print(enmascarado_datos(contraseña1))\n",
    "contraseña2  = '123456789' \n",
    "print(enmascarado_datos(contraseña2))"
   ]
  },
  {
   "cell_type": "markdown",
   "metadata": {},
   "source": [
    "### Ejercicio 5. Función es_anagrama\n",
    "- Crea una función que determine si dos palabras son anagramas, es decir, si están formadas por las mismas letras pero en diferente orden."
   ]
  },
  {
   "cell_type": "code",
   "execution_count": 5,
   "metadata": {},
   "outputs": [
    {
     "name": "stdout",
     "output_type": "stream",
     "text": [
      "True\n"
     ]
    }
   ],
   "source": [
    "def es_anagrama(palabra1, palabra2):\n",
    "    palabra1 = palabra1.replace(\" \", \"\").lower()\n",
    "    palabra2 = palabra2.replace(\" \", \"\").lower()\n",
    "    return sorted(palabra1) == sorted(palabra2)\n",
    "\n",
    "palabra1 = \"Roma\"\n",
    "palabra2 = \"lana\"\n",
    "palabra3 = \" hola\"\n",
    "palabra4 = \"amor\"\n",
    "print(es_anagrama(palabra1, palabra4))"
   ]
  },
  {
   "cell_type": "markdown",
   "metadata": {},
   "source": [
    "### Ejercicio 6. Función buscar_nombre\n",
    "- Crea una función que solicite al usuario ingresar una lista de nombres y luego solicite un nombre para buscar en esa lista. Si el nombre está en la lista, se imprime un mensaje indicando que fue encontrado, de lo contrario, se lanza una excepción."
   ]
  },
  {
   "cell_type": "code",
   "execution_count": 8,
   "metadata": {},
   "outputs": [],
   "source": [
    "def buscar_nombre():\n",
    "    try:\n",
    "        nombres = input(\"Ingresa una lista de nombres separados por comas: \").split(\",\")\n",
    "        nombres = [nombre.strip() for nombre in nombres]\n",
    "        nombre_a_buscar = input(\"Ingresa el nombre que deseas buscar: \").strip()\n",
    "        if nombre_a_buscar in nombres:\n",
    "            print(f\"El nombre '{nombre_a_buscar}' fue encontrado en la lista.\")\n",
    "        else:\n",
    "            raise ValueError(f\"El nombre '{nombre_a_buscar}' no fue encontrado en la lista.\")\n",
    "    except ValueError as e:\n",
    "        print(e)"
   ]
  },
  {
   "cell_type": "code",
   "execution_count": 18,
   "metadata": {},
   "outputs": [
    {
     "name": "stdout",
     "output_type": "stream",
     "text": [
      "El nombre 'Jaime' fue encontrado en la lista.\n"
     ]
    }
   ],
   "source": [
    "# Ejemplo de uso - Incorpora los siguientes nombres a la lista y comprueba que la función funciona correctamente: \"Jaime\", \"Silvia\" y \"Ana\".\n",
    "buscar_nombre()"
   ]
  },
  {
   "cell_type": "markdown",
   "metadata": {},
   "source": [
    "### Ejercicio 7. Función fibonacci\n",
    "- Crea una función que calcule el término n de la serie de Fibonacci utilizando recursión.\n",
    "- La secuencia de Fibonacci es una serie de números en la que cada número es la suma de los dos números anteriores, comenzando con 0 y 1. La posición 0 es la primera:\n",
    "- Ejemplo para los primeros 5 términos de la función de Fibonacci: [0, 1, 1, 2, 3]\n",
    "- Primer término: 0 (0)\n",
    "- RETO-TEST PYTHON: ENUNCIADOS 3\n",
    "- Segundo término: 1 (1)\n",
    "- Tercer término: 1 (0 + 1)\n",
    "- Cuarto término: 2 (1 + 1)\n",
    "- Quinto término: 3 (1 + 2)"
   ]
  },
  {
   "cell_type": "code",
   "execution_count": 19,
   "metadata": {},
   "outputs": [
    {
     "name": "stdout",
     "output_type": "stream",
     "text": [
      "El término 0 de la serie de Fibonacci es: 0\n",
      "El término 1 de la serie de Fibonacci es: 1\n",
      "El término 2 de la serie de Fibonacci es: 1\n",
      "El término 3 de la serie de Fibonacci es: 2\n",
      "El término 4 de la serie de Fibonacci es: 3\n",
      "El término 5 de la serie de Fibonacci es: 5\n",
      "El término 6 de la serie de Fibonacci es: 8\n",
      "El término 7 de la serie de Fibonacci es: 13\n",
      "El término 8 de la serie de Fibonacci es: 21\n",
      "El término 9 de la serie de Fibonacci es: 34\n",
      "El término 10 de la serie de Fibonacci es: 55\n"
     ]
    }
   ],
   "source": [
    "def fibonacci(n):\n",
    "    if n <= 1:\n",
    "        return n\n",
    "    else:\n",
    "        return fibonacci(n-1) + fibonacci(n-2)\n",
    "\n",
    "for i in range(11):\n",
    "    print(f\"El término {i} de la serie de Fibonacci es: {fibonacci(i)}\")"
   ]
  },
  {
   "cell_type": "markdown",
   "metadata": {},
   "source": [
    "### Ejercicio 8. Función encontrar_puesto_empleado\n",
    "- Crea una función que tome un nombre completo y una lista de empleados, busque el nombre completo en la lista y devuelve el puesto del empleado si está en la lista, de lo contrario, devuelve un mensaje indicando que la persona no trabaja aquí."
   ]
  },
  {
   "cell_type": "code",
   "execution_count": 20,
   "metadata": {},
   "outputs": [
    {
     "name": "stdout",
     "output_type": "stream",
     "text": [
      "Juan García trabaja como Secretario.\n"
     ]
    }
   ],
   "source": [
    "empleados = [{'nombre': \"Juan\", \n",
    "              'apellido': \"García\", \n",
    "              'puesto': \"Secretario\"},\n",
    "             {'nombre': \"Mabel\", \n",
    "               'apellido': \"García\", \n",
    "               'puesto': \"Product Manager\"},\n",
    "             {'nombre': \"Isabel\", \n",
    "               'apellido': \"Martín\", \n",
    "               'puesto': \"CEO\"}]\n",
    "\n",
    "def encontrar_puesto_empleado(nombre_completo, empleados):\n",
    "    for empleado in empleados:\n",
    "        nombre_completo_empleado = f\"{empleado['nombre']} {empleado['apellido']}\"\n",
    "        if nombre_completo_empleado == nombre_completo:\n",
    "            return f\"{nombre_completo} trabaja como {empleado['puesto']}.\"\n",
    "    return f\"{nombre_completo} no trabaja aquí.\"\n",
    "\n",
    "nombre_completo = 'Juan García'\n",
    "print(encontrar_puesto_empleado(nombre_completo, empleados))"
   ]
  },
  {
   "cell_type": "markdown",
   "metadata": {},
   "source": [
    "### Ejercicio 9. Función cubo_numero usando lambdas\n",
    "- Crea una función que calcule el cubo de un número dado mediante una función lambda"
   ]
  },
  {
   "cell_type": "code",
   "execution_count": 21,
   "metadata": {},
   "outputs": [
    {
     "name": "stdout",
     "output_type": "stream",
     "text": [
      "El cubo de 3 es: 27\n"
     ]
    }
   ],
   "source": [
    "def cubo_numero(numero):\n",
    "    cubo = lambda x: x ** 3\n",
    "    return cubo(numero)\n",
    "  \n",
    "numero = 3\n",
    "print(f\"El cubo de {numero} es: {cubo_numero(numero)}\")"
   ]
  },
  {
   "cell_type": "markdown",
   "metadata": {},
   "source": [
    "### Ejercicio 10. Función resto_division usando lambdas"
   ]
  },
  {
   "cell_type": "code",
   "execution_count": 22,
   "metadata": {},
   "outputs": [
    {
     "name": "stdout",
     "output_type": "stream",
     "text": [
      "1\n"
     ]
    }
   ],
   "source": [
    "resto_division = lambda num1, num2: num1 % num2\n",
    "print(resto_division(10, 3))"
   ]
  },
  {
   "cell_type": "markdown",
   "metadata": {},
   "source": [
    "### Ejercicio 11. Función numeros_pares usando lambdas y filter\n",
    "- Crea una función lambda que filtre los números pares de una lista dada."
   ]
  },
  {
   "cell_type": "code",
   "execution_count": 23,
   "metadata": {},
   "outputs": [
    {
     "name": "stdout",
     "output_type": "stream",
     "text": [
      "[24, 56, 0]\n"
     ]
    }
   ],
   "source": [
    "lista_numeros = [24, 56, 2.3, 19, -1, 0]\n",
    "numeros_pares = lambda lista : list(filter(lambda x: x % 2 == 0, lista))\n",
    "print(numeros_pares(lista_numeros))"
   ]
  },
  {
   "cell_type": "markdown",
   "metadata": {},
   "source": [
    "### Ejercicio 12. Función numeros_suma usando lambdas y map\n",
    "- lambda que sume 3 a cada número de una lista dada."
   ]
  },
  {
   "cell_type": "code",
   "execution_count": 24,
   "metadata": {},
   "outputs": [
    {
     "name": "stdout",
     "output_type": "stream",
     "text": [
      "[27, 59, 5.3, 22, 2, 3]\n"
     ]
    }
   ],
   "source": [
    "lista_numeros = [24, 56, 2.3, 19, -1, 0]\n",
    "numeros_suma = lambda lista: list(map(lambda x : x + 3, lista))\n",
    "print(numeros_suma(lista_numeros))"
   ]
  },
  {
   "cell_type": "markdown",
   "metadata": {},
   "source": [
    "### Ejercicio 13. Función sumar_listas usando lambdas:\n",
    "- Crea una función lambda que sume elementos correspondientes de dos listas dadas."
   ]
  },
  {
   "cell_type": "code",
   "execution_count": 25,
   "metadata": {},
   "outputs": [
    {
     "name": "stdout",
     "output_type": "stream",
     "text": [
      "[4, 15, 39, 62]\n"
     ]
    }
   ],
   "source": [
    "lista_numeros_1 = [1, 4, 5, 6 , 7 , 7]\n",
    "lista_numeros_2 = [3, 11, 34, 56]\n",
    "sumar_listas = lambda lista_numeros_1, lista_numeros_2 : list(map(lambda x, y: x + y, lista_numeros_1, lista_numeros_2))\n",
    "print(sumar_listas(lista_numeros_1, lista_numeros_2))"
   ]
  },
  {
   "cell_type": "markdown",
   "metadata": {},
   "source": [
    "### Ejercicio 14. No te vayas por las ramas :\n",
    "Crea la clase\n",
    "Arbol , define un árbol genérico con un tronco y ramas como atributos. Los\n",
    "métodos disponibles son: crecer_tronco , nueva_rama , crecer_ramas , quitar_rama e\n",
    "info_arbol . El objetivo es implementar estos métodos para manipular la\n",
    "estructura del árbol.\n",
    "Código a seguir:\n",
    "1. Inicializar un árbol con un tronco de longitud 1 y una lista vacía de ramas.\n",
    "2. Implementar el método crecer_tronco para aumentar la longitud del tronco\n",
    "en una unidad.\n",
    "3. Implementar el método nueva_rama para agregar una nueva rama de\n",
    "longitud 1 a la lista de ramas.\n",
    "4. Implementar el método crecer_ramas para aumentar en una unidad la\n",
    "longitud de todas las ramas existentes.\n",
    "5. Implementar el método quitar_rama para eliminar una rama en una posición\n",
    "específica.\n",
    "6. Implementar el método info_arbol para devolver información sobre la\n",
    "longitud del tronco, el número de ramas y las longitudes de las mismas.\n",
    "Caso de uso:\n",
    "1. Crear un árbol.\n",
    "2. Hacer crecer el tronco del árbol una unidad.\n",
    "3. Añadir una nueva rama al árbol.\n",
    "4. Hacer crecer todas las ramas del árbol una unidad.\n",
    "5. Añadir dos nuevas ramas al árbol.\n",
    "6. Retirar la rama situada en la posición 2.\n",
    "7. Obtener información sobre el árbol."
   ]
  },
  {
   "cell_type": "markdown",
   "metadata": {},
   "source": [
    "### Ejercicio 15. Clase UsuarioBanco :\n",
    "Crea la clase\n",
    "UsuarioBanco ,representa a un usuario de un banco con su nombre, saldo y si\n",
    "tiene o no cuenta corriente. Proporciona métodos para realizar operaciones\n",
    "como retirar dinero, transferir dinero desde otro usuario y agregar dinero al\n",
    "saldo.\n",
    "Código a seguir:\n",
    "1. Inicializar un usuario con su nombre, saldo y si tiene o no cuenta corriente\n",
    "mediante True y False .\n",
    "2. Implementar el método retirar_dinero para retirar dinero del saldo del\n",
    "usuario. Lanzará un error en caso de no poder hacerse.\n",
    "3. Implementar el método transferir_dinero para realizar una transferencia\n",
    "desde otro usuario al usuario actual. Lanzará un error en caso de no poder\n",
    "hacerse.\n",
    "4. Implementar el método agregar_dinero para agregar dinero al saldo del\n",
    "usuario.\n",
    "Caso de uso:\n",
    "1. Crear dos usuarios: \"Alicia\" con saldo inicial de 100 y \"Bob\" con saldo\n",
    "inicial de 50, ambos con cuenta corriente.\n",
    "2. Agregar 20 unidades de saldo de \"Alicia\".\n",
    "3. Hacer una transferencia de 80 unidades desde \"Bob\" a \"Alicia\".\n",
    "4. Retirar 50 unidades de saldo a \"Alicia\"."
   ]
  },
  {
   "cell_type": "markdown",
   "metadata": {},
   "source": [
    "### Ejercicio 16. Función procesar_texto :\n",
    "Crea una función llamada\n",
    "procesar_texto que procesa un texto según la opción especificada:\n",
    "contar_palabras , reemplazar_palabras , eliminar_palabra . Estas opciones son otras\n",
    "funciones que tenemos que definir primero y llamar dentro de la función\n",
    "procesar_texto .\n",
    "Código a seguir:\n",
    "1. Crear una función contar_palabras para contar el número de veces que\n",
    "aparece cada palabra en el texto. Tiene que devolver un diccionario.\n",
    "2. Crear una función reemplazar_palabras para remplazar una palabra_original\n",
    "del texto por una palabra_nueva . Tiene que devolver el texto con el remplazo\n",
    "de palabras.\n",
    "3. Crear una función eliminar_palabra para eliminar una palabra del texto.\n",
    "Tiene que devolver el texto con la palabra eliminada.\n",
    "4. Crear la función procesar_texto que tome un texto, una opción(entre\n",
    "\"contar\", \"reemplazar\", \"eliminar\") y un número de argumentos variable\n",
    "según la opción indicada.\n",
    "Caso de uso:\n",
    "texto = \"Este es un ejemplo de texto. Este texto contiene palabras repetidas.\"\n",
    "Dado el texto de ejemplo, llama a la función procesar_texto para probar sus\n",
    "funcionalidades:\n",
    "Cuenta el número de veces que aparece cada palabra.\n",
    "Reemplaza la palabra texto por relato.\n",
    "Elimina la palabra ejemplo."
   ]
  }
 ],
 "metadata": {
  "kernelspec": {
   "display_name": "Python 3",
   "language": "python",
   "name": "python3"
  },
  "language_info": {
   "codemirror_mode": {
    "name": "ipython",
    "version": 3
   },
   "file_extension": ".py",
   "mimetype": "text/x-python",
   "name": "python",
   "nbconvert_exporter": "python",
   "pygments_lexer": "ipython3",
   "version": "3.12.4"
  }
 },
 "nbformat": 4,
 "nbformat_minor": 2
}
